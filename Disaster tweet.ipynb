{
 "cells": [
  {
   "cell_type": "markdown",
   "id": "86dccc82-b6a5-4837-ae26-5a007970dfb5",
   "metadata": {},
   "source": [
    "## Libraries"
   ]
  },
  {
   "cell_type": "code",
   "execution_count": 1,
   "id": "bb9eef46-bc09-47df-bd7e-43705a2c51b4",
   "metadata": {},
   "outputs": [],
   "source": [
    "import pandas as pd\n",
    "import numpy as np\n",
    "import nltk\n",
    "import matplotlib.pyplot as plt\n",
    "import seaborn as sns\n",
    "from nltk.corpus import stopwords\n",
    "from nltk.tokenize import word_tokenize\n",
    "from sklearn.feature_extraction.text import CountVectorizer\n",
    "from sklearn.model_selection import train_test_split\n",
    "from sklearn.linear_model import LogisticRegression\n",
    "from sklearn.metrics import classification_report, confusion_matrix"
   ]
  },
  {
   "cell_type": "markdown",
   "id": "6922352e-f857-4749-9930-10caeff1bc72",
   "metadata": {},
   "source": [
    "## Loading Data"
   ]
  },
  {
   "cell_type": "code",
   "execution_count": 2,
   "id": "ecb2c789-f96e-4cac-829a-7ab1ef52aaca",
   "metadata": {},
   "outputs": [],
   "source": [
    "train = pd.read_csv(\"D:/Natural Language Processing with Disaster Tweets/train.csv\")"
   ]
  },
  {
   "cell_type": "markdown",
   "id": "2c073bb1-fe63-438c-9672-0e6404aee8fe",
   "metadata": {},
   "source": [
    "## Preprocessing"
   ]
  },
  {
   "cell_type": "code",
   "execution_count": 3,
   "id": "53c69494-e0fb-402d-af06-a22c6f10e834",
   "metadata": {},
   "outputs": [
    {
     "name": "stderr",
     "output_type": "stream",
     "text": [
      "[nltk_data] Downloading package stopwords to C:\\Users\\EL-\n",
      "[nltk_data]     WAZIR\\AppData\\Roaming\\nltk_data...\n",
      "[nltk_data]   Package stopwords is already up-to-date!\n",
      "[nltk_data] Downloading package punkt to C:\\Users\\EL-\n",
      "[nltk_data]     WAZIR\\AppData\\Roaming\\nltk_data...\n",
      "[nltk_data]   Package punkt is already up-to-date!\n"
     ]
    }
   ],
   "source": [
    "nltk.download('stopwords')\n",
    "nltk.download('punkt')\n",
    "\n",
    "def clean_and_tokenize_english_text(text):\n",
    "    eng_stopwords = set(stopwords.words(\"english\"))\n",
    "    eng_punctuation = '،؛؟.ـ،؛؟ـ!\"#$%&\\'()*+,-/:;<=>?@[\\\\]^_`{|}~-*%^#@!^'\n",
    "    words = word_tokenize(text)\n",
    "    cleaned_words = [word for word in words if word.lower() not in eng_stopwords and word not in eng_punctuation]\n",
    "    cleaned_words = list(set(cleaned_words))  # إزالة التكرار\n",
    "    cleaned_text = ' '.join(cleaned_words)\n",
    "    return cleaned_text\n",
    "\n",
    "train['cleaned_text'] = train['text'].apply(clean_and_tokenize_english_text)\n",
    "\n",
    "# إزالة الصفوف التي تحتوي على نصوص نظيفة فارغة\n",
    "train = train[train['cleaned_text'].str.strip() != '']\n",
    "\n",
    "# تحويل النصوص إلى تمثيل قابل للاستخدام\n",
    "vectorizer = CountVectorizer()\n",
    "X = vectorizer.fit_transform(train['cleaned_text'])\n",
    "y = train['target']"
   ]
  },
  {
   "cell_type": "markdown",
   "id": "35f6ee18-d3d7-44fa-8ff9-9d743c9ee11e",
   "metadata": {},
   "source": [
    "## Splitting Data"
   ]
  },
  {
   "cell_type": "code",
   "execution_count": 4,
   "id": "537134f8-1003-4012-b903-fc090a672513",
   "metadata": {},
   "outputs": [],
   "source": [
    "X_train, X_test, y_train, y_test = train_test_split(X, y, test_size=0.2, random_state=42)"
   ]
  },
  {
   "cell_type": "markdown",
   "id": "122c157c-9be5-4c23-ad68-006aeda7682e",
   "metadata": {},
   "source": [
    "## Modeling and Evaluation"
   ]
  },
  {
   "cell_type": "code",
   "execution_count": 7,
   "id": "0bd3be39-cd6b-4048-b025-096a895b765b",
   "metadata": {},
   "outputs": [
    {
     "name": "stdout",
     "output_type": "stream",
     "text": [
      "Classification Report:\n",
      "               precision    recall  f1-score   support\n",
      "\n",
      "           0       0.80      0.87      0.83       874\n",
      "           1       0.80      0.70      0.75       649\n",
      "\n",
      "    accuracy                           0.80      1523\n",
      "   macro avg       0.80      0.78      0.79      1523\n",
      "weighted avg       0.80      0.80      0.79      1523\n",
      "\n",
      "Confusion Matrix:\n",
      " [[757 117]\n",
      " [193 456]]\n"
     ]
    }
   ],
   "source": [
    "model = LogisticRegression(max_iter=1000)\n",
    "model.fit(X_train, y_train)\n",
    "y_pred = model.predict(X_test)\n",
    "print(\"Classification Report:\\n\", classification_report(y_test, y_pred))\n",
    "print(\"Confusion Matrix:\\n\", confusion_matrix(y_test, y_pred))"
   ]
  },
  {
   "cell_type": "code",
   "execution_count": 8,
   "id": "35bc7f81-53cc-482a-84d0-cce75050fcdd",
   "metadata": {},
   "outputs": [
    {
     "data": {
      "image/png": "[encoded data removed]",
      "text/plain": [
       "<Figure size 800x600 with 1 Axes>"
      ]
     },
     "metadata": {},
     "output_type": "display_data"
    }
   ],
   "source": [
    "plt.figure(figsize=(8,6))\n",
    "sns.countplot(x='target', data=train)\n",
    "plt.xlabel(\"Target\")\n",
    "plt.title(\"Real Disaster V.S No Disaster\")\n",
    "plt.show()"
   ]
  },
  {
   "cell_type": "code",
   "execution_count": null,
   "id": "8d0aade3-78d6-4991-ae80-7d32dbd11db3",
   "metadata": {},
   "outputs": [],
   "source": []
  },
  {
   "cell_type": "code",
   "execution_count": null,
   "id": "31de99d3-e442-4d44-9b87-12d41169baf3",
   "metadata": {},
   "outputs": [],
   "source": []
  }
 ],
 "metadata": {
  "kernelspec": {
   "display_name": "Python 3",
   "language": "python",
   "name": "python3"
  },
  "language_info": {
   "codemirror_mode": {
    "name": "ipython",
    "version": 3
   },
   "file_extension": ".py",
   "mimetype": "text/x-python",
   "name": "python",
   "nbconvert_exporter": "python",
   "pygments_lexer": "ipython3",
   "version": "3.11.7"
  }
 },
 "nbformat": 4,
 "nbformat_minor": 5
}
