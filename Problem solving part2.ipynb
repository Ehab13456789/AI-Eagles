{
 "cells": [
  {
   "cell_type": "markdown",
   "id": "07a7f754-280b-41e5-9f3b-4dee1dc7df9c",
   "metadata": {},
   "source": [
    "## Balanced Tunnel"
   ]
  },
  {
   "cell_type": "code",
   "execution_count": 1,
   "id": "a51d0640-7fc0-4896-8720-55d7b5836386",
   "metadata": {},
   "outputs": [
    {
     "name": "stdin",
     "output_type": "stream",
     "text": [
      "enter num of cars:  7\n",
      "entered cars for n0:  5\n",
      "exit cars for n0:  2\n",
      "entered cars for n1:  2\n",
      "exit cars for n1:  3\n",
      "entered cars for n2:  3\n",
      "exit cars for n2:  6\n",
      "entered cars for n3:  6\n",
      "exit cars for n3:  7\n",
      "entered cars for n4:  7\n",
      "exit cars for n4:  1\n",
      "entered cars for n5:  1\n",
      "exit cars for n5:  4\n",
      "entered cars for n6:  4\n",
      "exit cars for n6:  5\n"
     ]
    },
    {
     "name": "stdout",
     "output_type": "stream",
     "text": [
      "[2, 3, 6, 7, 1, 4]\n",
      "Number of cars fined is: 6\n"
     ]
    }
   ],
   "source": [
    "n=int(input(\"enter num of cars: \"))\n",
    "fined=0\n",
    "fined_cars=[]\n",
    "list1=[]\n",
    "list2=[]\n",
    "for n in range(n):\n",
    "    x=int(input(f\"entered cars for n{n}: \"))\n",
    "    y=int(input(f\"exit cars for n{n}: \"))\n",
    "    list1.append(x)\n",
    "    list2.append(y)\n",
    "i = 0\n",
    "j = 0\n",
    "while i < len(list2)and j<len((list1)):\n",
    "    if list2[i]==list1[j]:\n",
    "        i+=1\n",
    "        j+=1\n",
    "    elif list2[i]!=list1[j]:\n",
    "        if list2[i] not in fined_cars:\n",
    "            \n",
    "            fined_cars.append(list2[i])\n",
    "            fined+=1\n",
    "        i+=1\n",
    "print(fined_cars)\n",
    "print(f\"Number of cars fined is: {fined}\")"
   ]
  },
  {
   "cell_type": "markdown",
   "id": "101a43b0-e9a7-406d-87ce-24b8c22dec96",
   "metadata": {},
   "source": [
    "## Alyona and mex"
   ]
  },
  {
   "cell_type": "code",
   "execution_count": 2,
   "id": "db87217b-3031-4421-9805-d7b067c42c9e",
   "metadata": {},
   "outputs": [
    {
     "name": "stdin",
     "output_type": "stream",
     "text": [
      "Enter the number of elements in array A:  5\n",
      "Enter the number of subarrays:  3\n",
      "Enter element A[0]:  1\n",
      "Enter element A[1]:  0\n",
      "Enter element A[2]:  2\n",
      "Enter element A[3]:  1\n",
      "Enter element A[4]:  0\n",
      "Enter the indices (l r) for subarray 1:  1 3\n"
     ]
    },
    {
     "name": "stdout",
     "output_type": "stream",
     "text": [
      "mex of subarray 1 to 3 is 3\n"
     ]
    },
    {
     "name": "stdin",
     "output_type": "stream",
     "text": [
      "Enter the indices (l r) for subarray 2:  2 5\n"
     ]
    },
    {
     "name": "stdout",
     "output_type": "stream",
     "text": [
      "mex of subarray 2 to 5 is 3\n"
     ]
    },
    {
     "name": "stdin",
     "output_type": "stream",
     "text": [
      "Enter the indices (l r) for subarray 3:  4 5\n"
     ]
    },
    {
     "name": "stdout",
     "output_type": "stream",
     "text": [
      "mex of subarray 4 to 5 is 2\n",
      "The minimum MEX across all subarrays is 2\n"
     ]
    }
   ],
   "source": [
    "n = int(input(\"Enter the number of elements in array A: \"))\n",
    "m = int(input(\"Enter the number of subarrays: \"))\n",
    "A = []\n",
    "for i in range(n):\n",
    "    a = int(input(f\"Enter element A[{i}]: \"))\n",
    "    A.append(a)\n",
    "min_mex = 1000\n",
    "\n",
    "for i in range(m):\n",
    "    l, r = map(int, input(f\"Enter the indices (l r) for subarray {i+1}: \").split())\n",
    "    subarray = A[l-1:r]\n",
    "    mex = 0\n",
    "    while mex in subarray:\n",
    "        mex += 1\n",
    "    if mex < min_mex:\n",
    "        min_mex = mex\n",
    "    \n",
    "    print(f\"mex of subarray {l} to {r} is {mex}\")\n",
    "\n",
    "print(f\"The minimum MEX across all subarrays is {min_mex}\")\n"
   ]
  },
  {
   "cell_type": "markdown",
   "id": "6214a3dd-d403-4493-b0dd-ba528516c7e7",
   "metadata": {},
   "source": [
    "## President's Office"
   ]
  },
  {
   "cell_type": "code",
   "execution_count": 3,
   "id": "bffe1113-fb7a-4d45-a5d1-32ff47ab4cc0",
   "metadata": {},
   "outputs": [
    {
     "name": "stdin",
     "output_type": "stream",
     "text": [
      "enter number of rows:  3\n",
      "enter number of columns:  4\n",
      "enter color:  R\n"
     ]
    },
    {
     "name": "stdout",
     "output_type": "stream",
     "text": [
      "['T', 'B']\n",
      "Number of elements in x is: 2\n"
     ]
    }
   ],
   "source": [
    "n=int(input(\"enter number of rows: \"))\n",
    "m=int(input(\"enter number of columns: \"))\n",
    "color=input(\"enter color: \")\n",
    "office = [\n",
    "    ['G', '.', 'B', '.'],\n",
    "    ['.', 'R', 'R', '.'],\n",
    "    ['T', 'T', 'T', '.']\n",
    "]\n",
    "X=0\n",
    "x=[]\n",
    "i=0\n",
    "j=0\n",
    "for i in range(n):\n",
    "    for j in range(m):\n",
    "        if office[i][j]==color:\n",
    "            if office[i+1][j]!=color and office[i+1][j] !='.' and office[i+1][j] not in x :\n",
    "                x.append(office[i+1][j])\n",
    "                X+=1\n",
    "            if office[i-1][j]!=color and office[i-1][j] !='.' and office[i-1][j] not in x:\n",
    "                x.append(office[i-1][j])\n",
    "                X+=1\n",
    "            if office[i][j+1]!=color and office[i][j+1] !='.' and office[i][j+1] not in x:\n",
    "                x.append(office[i][j+1])\n",
    "                X+=1\n",
    "            if office[i][j-1]!=color and office[i][j-1] !='.' and office[i][j-1] not in x:\n",
    "                x.append(office[i][j-1])\n",
    "                X+=1\n",
    "print(x)\n",
    "print(f\"Number of elements in x is: {X}\")\n",
    "            "
   ]
  },
  {
   "cell_type": "code",
   "execution_count": null,
   "id": "f86b517b-0b87-481b-ac13-876c263afc2c",
   "metadata": {},
   "outputs": [],
   "source": []
  }
 ],
 "metadata": {
  "kernelspec": {
   "display_name": "Python 3",
   "language": "python",
   "name": "python3"
  },
  "language_info": {
   "codemirror_mode": {
    "name": "ipython",
    "version": 3
   },
   "file_extension": ".py",
   "mimetype": "text/x-python",
   "name": "python",
   "nbconvert_exporter": "python",
   "pygments_lexer": "ipython3",
   "version": "3.11.7"
  }
 },
 "nbformat": 4,
 "nbformat_minor": 5
}
